{
 "cells": [
  {
   "cell_type": "markdown",
   "metadata": {},
   "source": [
    "## Python Numbers"
   ]
  },
  {
   "cell_type": "markdown",
   "metadata": {},
   "source": [
    "In Python, there are three distinct numeric types:\n",
    "\n",
    "- Integers\n",
    "- Floating-point numbers\n",
    "- Complex numbers\n"
   ]
  },
  {
   "cell_type": "markdown",
   "metadata": {},
   "source": [
    "![Nunbers](https://www.learnbyexample.org/wp-content/uploads/python/Python-Numbers-Integers-Floats-Complex-Numbers.png)"
   ]
  },
  {
   "cell_type": "markdown",
   "metadata": {},
   "source": [
    "### Integers\n",
    "An integer is a whole number that can be positive or negative."
   ]
  },
  {
   "cell_type": "code",
   "execution_count": 1,
   "metadata": {},
   "outputs": [],
   "source": [
    "# Following numbers are integers\n",
    "x = 10\n",
    "y = -10\n",
    "z = 123456789"
   ]
  },
  {
   "cell_type": "markdown",
   "metadata": {},
   "source": [
    "In Python 3, there is no limit to how long an integer value can be. It can grow to have as many digits as your computer’s memory space allows."
   ]
  },
  {
   "cell_type": "code",
   "execution_count": 2,
   "metadata": {},
   "outputs": [],
   "source": [
    "# Integers have unlimited precision\n",
    "x = 99999999999999999999999999999999999999999999999999999999999999999999999999999999"
   ]
  },
  {
   "cell_type": "markdown",
   "metadata": {},
   "source": [
    "We normally write integers in base 10. However, Python allows us to write integers in Hexadecimal (base 16), Octal (base 8), and Binary (base 2) formats. You can do that by adding one of the following prefixes to the integer."
   ]
  },
  {
   "cell_type": "markdown",
   "metadata": {},
   "source": [
    "|Prefix|Interpretation\t|Base|\n",
    "|-----|---------|-------|\n",
    "|‘0b’ or ‘0B’|\tBinary\t|2|\n",
    "|‘0o’ or ‘0O’|\tOctal\t|8|\n",
    "|‘0x’ or ‘0X’|\tHexadecimal\t|16|"
   ]
  },
  {
   "cell_type": "code",
   "execution_count": 3,
   "metadata": {},
   "outputs": [
    {
     "name": "stdout",
     "output_type": "stream",
     "text": [
      "187\n",
      "8\n",
      "255\n"
     ]
    }
   ],
   "source": [
    "# Integers in binary, octal and hexadecimal formats\n",
    "\n",
    "# binary\n",
    "print(0b10111011)\n",
    "# Prints 187\n",
    "\n",
    "# octal\n",
    "print(0o10)\n",
    "# Prints 8\n",
    "\n",
    "# hex\n",
    "print(0xFF)\n",
    "# Prints 255"
   ]
  },
  {
   "cell_type": "markdown",
   "metadata": {},
   "source": [
    "In addition, Boolean is a sub-type of integers."
   ]
  },
  {
   "cell_type": "code",
   "execution_count": 4,
   "metadata": {},
   "outputs": [],
   "source": [
    "# Boolean in python\n",
    "x = True\n",
    "x = False"
   ]
  },
  {
   "cell_type": "markdown",
   "metadata": {},
   "source": [
    "### Floating-Point Numbers\n",
    "Floating-point number or Float is a positive or negative number with a fractional part."
   ]
  },
  {
   "cell_type": "code",
   "execution_count": null,
   "metadata": {},
   "outputs": [],
   "source": []
  }
 ],
 "metadata": {
  "kernelspec": {
   "display_name": "Python 3",
   "language": "python",
   "name": "python3"
  },
  "language_info": {
   "codemirror_mode": {
    "name": "ipython",
    "version": 3
   },
   "file_extension": ".py",
   "mimetype": "text/x-python",
   "name": "python",
   "nbconvert_exporter": "python",
   "pygments_lexer": "ipython3",
   "version": "3.8.3"
  }
 },
 "nbformat": 4,
 "nbformat_minor": 4
}
